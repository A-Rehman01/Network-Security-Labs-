{
 "cells": [
  {
   "cell_type": "markdown",
   "metadata": {},
   "source": [
    "<h1>ATBASH Cipher<h1/>"
   ]
  },
  {
   "cell_type": "code",
   "execution_count": 3,
   "metadata": {},
   "outputs": [
    {
     "name": "stdout",
     "output_type": "stream",
     "text": [
      "Enter Message: ACD\n",
      "Result:  ZXW\n"
     ]
    }
   ],
   "source": [
    "# Python program to implement Atbash Cipher \n",
    "  \n",
    "# This script uses dictionaries to lookup various alphabets \n",
    "lookup_table = {'A' : 'Z', 'B' : 'Y', 'C' : 'X', 'D' : 'W', 'E' : 'V', \n",
    "        'F' : 'U', 'G' : 'T', 'H' : 'S', 'I' : 'R', 'J' : 'Q', \n",
    "        'K' : 'P', 'L' : 'O', 'M' : 'N', 'N' : 'M', 'O' : 'L', \n",
    "        'P' : 'K', 'Q' : 'J', 'R' : 'I', 'S' : 'H', 'T' : 'G', \n",
    "        'U' : 'F', 'V' : 'E', 'W' : 'D', 'X' : 'C', 'Y' : 'B', 'Z' : 'A'} \n",
    "  \n",
    "def atbash(message): \n",
    "    cipher = '' \n",
    "    for letter in message: \n",
    "        # checks for space \n",
    "        if(letter != ' '): \n",
    "            #adds the corresponding letter from the lookup_table \n",
    "            cipher += lookup_table[letter] \n",
    "        else: \n",
    "            # adds space \n",
    "            cipher += ' '\n",
    "  \n",
    "    return cipher \n",
    "  \n",
    "# Driver function to run the program \n",
    "def main(): \n",
    "    #encrypt the given message \n",
    "    message =input('Enter Message: ')\n",
    "    print(\"Result: \",atbash(message.upper())) \n",
    "      \n",
    "   \n",
    "  \n",
    "  \n",
    " # Executes the main function \n",
    "if __name__ == '__main__': \n",
    "    main() "
   ]
  },
  {
   "cell_type": "code",
   "execution_count": null,
   "metadata": {},
   "outputs": [],
   "source": []
  }
 ],
 "metadata": {
  "kernelspec": {
   "display_name": "Python 3",
   "language": "python",
   "name": "python3"
  },
  "language_info": {
   "codemirror_mode": {
    "name": "ipython",
    "version": 3
   },
   "file_extension": ".py",
   "mimetype": "text/x-python",
   "name": "python",
   "nbconvert_exporter": "python",
   "pygments_lexer": "ipython3",
   "version": "3.7.4"
  }
 },
 "nbformat": 4,
 "nbformat_minor": 2
}
