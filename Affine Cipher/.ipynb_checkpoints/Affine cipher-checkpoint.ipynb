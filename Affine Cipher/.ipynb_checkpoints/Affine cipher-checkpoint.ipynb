{
 "cells": [
  {
   "cell_type": "markdown",
   "metadata": {},
   "source": [
    "<h2>Encryption</h2>"
   ]
  },
  {
   "cell_type": "code",
   "execution_count": 19,
   "metadata": {},
   "outputs": [
    {
     "name": "stdout",
     "output_type": "stream",
     "text": [
      "Give PlaneText:p\n",
      "Enter Key a: 4\n",
      "Enter Key b: 4\n",
      "final:  M\n"
     ]
    }
   ],
   "source": [
    "inputText = input('Give PlaneText:')\n",
    "inputText = inputText.upper()\n",
    "valid = CheckInput(inputText)\n",
    "\n",
    "key1 = int(input(\"Enter Key a: \"))\n",
    "key1=key1%26\n",
    "key2 = int(input(\"Enter Key b: \"))\n",
    "key2=key2%26\n",
    "\n",
    "if(valid):\n",
    "    ConvertinShiftClipherdecode(inputText,key1,key2)\n",
    "else:\n",
    "    print('Invalid Input')"
   ]
  },
  {
   "cell_type": "markdown",
   "metadata": {},
   "source": [
    "<h2>Decryption</h2>"
   ]
  },
  {
   "cell_type": "code",
   "execution_count": 69,
   "metadata": {},
   "outputs": [
    {
     "name": "stdout",
     "output_type": "stream",
     "text": [
      "Give CipherText:UVOHCBN NDU OYRU WGND IXXGVU OGBDUH NUODVGEQU\n",
      "VSNIXAQ QUV NJEV PLQU FMMLSV NLAUVI QVNUSLRHV :  1\n",
      "YVQLAXT TXY QMHY SOTX IPPOVY QOXXYL TYQXVOUKY :  2\n",
      "BYTOXUW WAB TPKB VRWA LSSRYB TRUABO WBTAYRXNB :  3\n",
      "EBWRURZ ZXE WSNE YUZX OVVUBE WURXER ZEWXBUAQE :  4\n",
      "HEZUROC CUH ZVQH BXCU RYYXEH ZXOUHU CHZUEXXTH :  5\n",
      "KHCXOLF FRK CYTK EAFR UBBAHK CALRKX FKCRHAUWK :  6\n",
      "NKFALII ION FBWN HXIO XEEXKN FXIONA INFOKXRZN :  7\n",
      "QNIXIFL LLQ IEZQ KULL AHHUNQ IUFLQX LQILNUOCQ :  8\n",
      "TQLUFCO OIT LHCT NROI XKKRQT LRCITU OTLIQRLFT :  9\n",
      "WTORCZR RFW OKFW QORF UNNOTW OOZFWR RWOFTOIIW :  10\n",
      "ZWROZWU UCZ RNIZ TLUC RQQLWZ RLWCZO UZRCWLFLZ :  11\n",
      "CZULWTX XZC UQLC WIXZ OTTIZC UITZCL XCUZZICOC :  12\n",
      "FCXITQA AWF XTOF ZFAW LWWFCF XFQWFI AFXWCFZRF :  13\n",
      "IFAFQNX XTI AWRI CCXT IZZCFI ACNTIF XIATFCWUI :  14\n",
      "LIXCNKU UQL XZUL FZUQ FCCZIL XZKQLC ULXQIZTXL :  15\n",
      "OLUZKHR RNO UCXO IWRN CFFWLO UWHNOZ ROUNLWQAO :  16\n",
      "RORWHEO OKR RFAR LTOK ZIITOR RTEKRW ORRKOTNXR :  17\n",
      "UROTEBL LHU OIXU OQLH WLLQRU OQBHUT LUOHRQKUU :  18\n",
      "XULQBYI IEX LLUX RNIE TOONUX LNYEXQ IXLEUNHRX :  19\n",
      "AXINYVF FBA IORA UKFB QRRKXA IKVBAN FAIBXKEOA :  20\n",
      "XAFKVSC CYX FROX XHCY NUUHAX FHSYXK CXFYAHBLX :  21\n",
      "UXCHSPZ ZVU CULU AEZV KXXEXU CEPVUH ZUCVXEYIU :  22\n",
      "RUZEPMW WSR ZXIR XBWS HAABUR ZBMSRE WRZSUBVFR :  23\n",
      "ORWBMJT TPO WAFO UYTP EXXYRO WYJPOB TOWPRYSCO :  24\n",
      "LOTYJGQ QML TXCL RVQM BUUVOL TVGMLY QLTMOVPZL :  25\n",
      "ILQVGDN NJI QUZI OSNJ YRRSLI QSDJIV NIQJLSMWI :  26\n"
     ]
    }
   ],
   "source": [
    "inputText = input('Give CipherText:')\n",
    "inputText = inputText.upper()\n",
    "valid = CheckInput(inputText)\n",
    "\n",
    "if(valid):\n",
    "    ConvertinShiftClipherEncode(inputText)\n",
    "else:\n",
    "    print('Invalid Input')"
   ]
  },
  {
   "cell_type": "code",
   "execution_count": 6,
   "metadata": {},
   "outputs": [],
   "source": [
    "def CheckInput(input):\n",
    "    if(input!=''):\n",
    "        for x in input:\n",
    "#             65 = A , 90 = Z 32 = ' '\n",
    "            if(ord(x)<65 or ord(x)>90):    \n",
    "                if(ord(x)!=32):\n",
    "                    return False\n",
    "        return True\n",
    "    return False\n"
   ]
  },
  {
   "cell_type": "code",
   "execution_count": 21,
   "metadata": {},
   "outputs": [],
   "source": [
    "def ConvertinShiftClipherdecode(text,key1,key2):\n",
    "    chlist = 'ABCDEFGHIJKLMNOPQRSTUVWXYZ'\n",
    "    chlist = ''.join(sorted(set(str(chlist))))\n",
    "    inc = ''\n",
    "    result=''\n",
    "    chlen = len(chlist)\n",
    "    for i in range(0, len(text)):\n",
    "        lchar = text[i]\n",
    "        if(lchar == ' '):\n",
    "            result = result + \" \"\n",
    "            inc=''\n",
    "        else:\n",
    "            pos = (chlist.find(lchar)*key1) + key2\n",
    "            if pos < chlen:\n",
    "                inc = chlist[pos] + inc\n",
    "                result = result + inc\n",
    "                inc=''\n",
    "            else:\n",
    "                inc = chlist[pos%26]\n",
    "                result = result + inc\n",
    "                inc=''\n",
    "\n",
    "    print(\"final: \",result)"
   ]
  },
  {
   "cell_type": "code",
   "execution_count": 71,
   "metadata": {},
   "outputs": [],
   "source": [
    "def ConvertinShiftClipherEncode(text):\n",
    "    chlist = 'ABCDEFGHIJKLMNOPQRSTUVWXYZ'\n",
    "    lookup_table = {1 : 1, 3 : 9, 5 : 21, 7 : 15, 9 : 3, \n",
    "        11 : 19, 15 : 7, 17 : 23, 19 : 11, \n",
    "        21 : 5, 23 : 17, 25 : 75}\n",
    "    chlist = ''.join(sorted(set(str(chlist))))\n",
    "    inc = ''\n",
    "    result=''\n",
    "    chlen = len(chlist)\n",
    "    for k in range(1,27):\n",
    "        for i in range(0, len(text)):\n",
    "            lchar = text[i]\n",
    "            if(lchar == ' '):\n",
    "                result = result + \" \"\n",
    "                inc=''\n",
    "            else:\n",
    "                pos = lookup_table[25] * (chlist.find(lchar) - k)\n",
    "                \n",
    "#                 print(pos)\n",
    "                if pos < chlen:\n",
    "                    inc = chlist[pos] + inc\n",
    "                    result = result + inc\n",
    "                    inc=''\n",
    "                else:\n",
    "                    inc = chlist[pos%26]\n",
    "                    result = result + inc\n",
    "                    inc=''\n",
    "\n",
    "        print(result,\": \",k)\n",
    "        result=''"
   ]
  },
  {
   "cell_type": "code",
   "execution_count": 28,
   "metadata": {},
   "outputs": [
    {
     "name": "stdout",
     "output_type": "stream",
     "text": [
      "1\n",
      "3\n",
      "5\n",
      "7\n",
      "9\n",
      "11\n",
      "15\n",
      "17\n",
      "19\n",
      "21\n",
      "23\n",
      "25\n"
     ]
    }
   ],
   "source": [
    "for number in range(1, 26):\n",
    "    if(number % 2 != 0):\n",
    "        if(number!=13):\n",
    "            print(number)"
   ]
  }
 ],
 "metadata": {
  "kernelspec": {
   "display_name": "Python 3",
   "language": "python",
   "name": "python3"
  },
  "language_info": {
   "codemirror_mode": {
    "name": "ipython",
    "version": 3
   },
   "file_extension": ".py",
   "mimetype": "text/x-python",
   "name": "python",
   "nbconvert_exporter": "python",
   "pygments_lexer": "ipython3",
   "version": "3.7.4"
  }
 },
 "nbformat": 4,
 "nbformat_minor": 2
}
