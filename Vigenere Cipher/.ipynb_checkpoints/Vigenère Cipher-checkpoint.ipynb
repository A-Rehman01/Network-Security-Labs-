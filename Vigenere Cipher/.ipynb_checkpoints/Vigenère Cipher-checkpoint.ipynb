{
 "cells": [
  {
   "cell_type": "markdown",
   "metadata": {},
   "source": [
    "<h2>Vigenère Cipher </h2>"
   ]
  },
  {
   "cell_type": "markdown",
   "metadata": {},
   "source": [
    "<h4>TASK:1</h4>"
   ]
  },
  {
   "cell_type": "code",
   "execution_count": 86,
   "metadata": {
    "scrolled": true
   },
   "outputs": [
    {
     "name": "stdout",
     "output_type": "stream",
     "text": [
      "Planetext: ASSIGNMENTDUEBYNEXTCLASS Key: PRACTICEPRACTICEPRACTICE\n",
      "CipherText:  PJSKZVOICKDWXJARTOTEEIUW\n"
     ]
    }
   ],
   "source": [
    "# Planetext = input(\"Enter Planetxt \")\n",
    "Planetext = \"Assignmentduebynextclass\"\n",
    "Planetext = Planetext.upper()\n",
    "key = \"practice\";\n",
    "key = key.upper()\n",
    "valid = CheckInput(Planetext)\n",
    "for i in range(0, len(Planetext)):\n",
    "    if(len(key)==len(Planetext)):\n",
    "        break;\n",
    "    key=key+key[i]\n",
    "length = len(key)\n",
    "print(\"Planetext:\",Planetext,\"Key:\",key)\n",
    "if(valid):\n",
    "    ConvertinVigenereClipherEncode(Planetext,key,length)\n",
    "else:\n",
    "    print('Invalid Input')"
   ]
  },
  {
   "cell_type": "markdown",
   "metadata": {},
   "source": [
    "<h4>TASK2</h4>"
   ]
  },
  {
   "cell_type": "code",
   "execution_count": 1,
   "metadata": {},
   "outputs": [
    {
     "ename": "NameError",
     "evalue": "name 'CheckInput' is not defined",
     "output_type": "error",
     "traceback": [
      "\u001b[1;31m---------------------------------------------------------------------------\u001b[0m",
      "\u001b[1;31mNameError\u001b[0m                                 Traceback (most recent call last)",
      "\u001b[1;32m<ipython-input-1-46ecab95735f>\u001b[0m in \u001b[0;36m<module>\u001b[1;34m\u001b[0m\n\u001b[0;32m      3\u001b[0m \u001b[0mkey\u001b[0m \u001b[1;33m=\u001b[0m \u001b[1;34m'tryhard'\u001b[0m\u001b[1;33m\u001b[0m\u001b[1;33m\u001b[0m\u001b[0m\n\u001b[0;32m      4\u001b[0m \u001b[0mkey\u001b[0m \u001b[1;33m=\u001b[0m \u001b[0mkey\u001b[0m\u001b[1;33m.\u001b[0m\u001b[0mupper\u001b[0m\u001b[1;33m(\u001b[0m\u001b[1;33m)\u001b[0m\u001b[1;33m\u001b[0m\u001b[1;33m\u001b[0m\u001b[0m\n\u001b[1;32m----> 5\u001b[1;33m \u001b[0mvalid\u001b[0m \u001b[1;33m=\u001b[0m \u001b[0mCheckInput\u001b[0m\u001b[1;33m(\u001b[0m\u001b[0mCiphertext\u001b[0m\u001b[1;33m)\u001b[0m\u001b[1;33m\u001b[0m\u001b[1;33m\u001b[0m\u001b[0m\n\u001b[0m\u001b[0;32m      6\u001b[0m \u001b[1;32mfor\u001b[0m \u001b[0mi\u001b[0m \u001b[1;32min\u001b[0m \u001b[0mrange\u001b[0m\u001b[1;33m(\u001b[0m\u001b[1;36m0\u001b[0m\u001b[1;33m,\u001b[0m \u001b[0mlen\u001b[0m\u001b[1;33m(\u001b[0m\u001b[0mCiphertext\u001b[0m\u001b[1;33m)\u001b[0m\u001b[1;33m)\u001b[0m\u001b[1;33m:\u001b[0m\u001b[1;33m\u001b[0m\u001b[1;33m\u001b[0m\u001b[0m\n\u001b[0;32m      7\u001b[0m     \u001b[1;32mif\u001b[0m\u001b[1;33m(\u001b[0m\u001b[0mlen\u001b[0m\u001b[1;33m(\u001b[0m\u001b[0mkey\u001b[0m\u001b[1;33m)\u001b[0m\u001b[1;33m==\u001b[0m\u001b[0mlen\u001b[0m\u001b[1;33m(\u001b[0m\u001b[0mCiphertext\u001b[0m\u001b[1;33m)\u001b[0m\u001b[1;33m)\u001b[0m\u001b[1;33m:\u001b[0m\u001b[1;33m\u001b[0m\u001b[1;33m\u001b[0m\u001b[0m\n",
      "\u001b[1;31mNameError\u001b[0m: name 'CheckInput' is not defined"
     ]
    }
   ],
   "source": [
    "Ciphertext = 'OZELNVUXTGWHVUBJLVTYDKURVDVFKPNA'\n",
    "Ciphertext = Ciphertext.upper()\n",
    "key = 'tryhard'\n",
    "key = key.upper()\n",
    "valid = CheckInput(Ciphertext)\n",
    "for i in range(0, len(Ciphertext)):\n",
    "    if(len(key)==len(Ciphertext)):\n",
    "        break;\n",
    "    key=key+key[i]\n",
    "print(\"Cipher: \",Ciphertext,\"Key:\",key)\n",
    "if(valid):\n",
    "    ConvertinVigenereClipherDecode(Ciphertext,key)\n",
    "else:\n",
    "    print('Invalid Input')"
   ]
  },
  {
   "cell_type": "markdown",
   "metadata": {},
   "source": [
    "<h4>TASK:3</h4>"
   ]
  },
  {
   "cell_type": "code",
   "execution_count": 74,
   "metadata": {},
   "outputs": [
    {
     "name": "stdout",
     "output_type": "stream",
     "text": [
      "Cipher:  XCECKVJSLKOUHTXIIYEXBOGRTIEEBXJIG Key: PRACTICEPRACTICEPRACTICEPRACTICEP\n",
      "PlaneText:  ILEARNHOWTOSOLVETHEVIGENERECIPHER\n"
     ]
    }
   ],
   "source": [
    "\n",
    "Ciphertext = 'XCECKVJSLKOUHTXIIYEXBOGRTIEEBXJIG'\n",
    "Ciphertext = Ciphertext.upper()\n",
    "key = 'Practice'\n",
    "key = key.upper()\n",
    "valid = CheckInput(Ciphertext)\n",
    "for i in range(0, len(Ciphertext)):\n",
    "    if(len(key)==len(Ciphertext)):\n",
    "        break;\n",
    "    key=key+key[i]\n",
    "print(\"Cipher: \",Ciphertext,\"Key:\",key)\n",
    "if(valid):\n",
    "    ConvertinVigenereClipherDecode(Ciphertext,key)\n",
    "else:\n",
    "    print('Invalid Input')"
   ]
  },
  {
   "cell_type": "code",
   "execution_count": 2,
   "metadata": {},
   "outputs": [],
   "source": [
    "def CheckInput(input):\n",
    "    if(input!=''):\n",
    "        for x in input:\n",
    "#             65 = A , 90 = Z 32 = ' '\n",
    "            if(ord(x)<65 or ord(x)>90):    \n",
    "                if(ord(x)!=32):\n",
    "                    return False\n",
    "        return True\n",
    "    return False"
   ]
  },
  {
   "cell_type": "code",
   "execution_count": 3,
   "metadata": {},
   "outputs": [],
   "source": [
    "def ConvertinVigenereClipherDecode(text,key):\n",
    "    chlist = 'ABCDEFGHIJKLMNOPQRSTUVWXYZ'\n",
    "    chlist = ''.join(sorted(set(str(chlist))))\n",
    "    inc = ''\n",
    "    result=''\n",
    "    chlen = len(chlist)\n",
    "    for i in range(0, len(text)):\n",
    "        lchar = text[i]\n",
    "        keyindex = chlist.index(key[i])\n",
    "#         print(keyindex)\n",
    "        if(lchar == ' '):\n",
    "            result = result + \" \"\n",
    "            inc=''\n",
    "        else:\n",
    "            pos = chlist.find(lchar) - keyindex\n",
    "            if pos < chlen:\n",
    "                inc = chlist[pos] + inc\n",
    "                result = result + inc\n",
    "                inc=''\n",
    "            else:\n",
    "                inc = chlist[pos%26]\n",
    "                result = result + inc\n",
    "                inc=''\n",
    "\n",
    "    print(\"PlaneText: \",result)\n",
    "    result=''"
   ]
  },
  {
   "cell_type": "code",
   "execution_count": 4,
   "metadata": {},
   "outputs": [],
   "source": [
    "def ConvertinVigenereClipherEncode(text,key,length):\n",
    "    chlist = 'ABCDEFGHIJKLMNOPQRSTUVWXYZ'\n",
    "    chlist = ''.join(sorted(set(str(chlist))))\n",
    "    inc = ''\n",
    "    result=''\n",
    "    chlen = len(chlist)\n",
    "    for i in range(0, length):\n",
    "        lchar = text[i]\n",
    "        lchar2 = key[i]\n",
    "        if(lchar == ' '):\n",
    "            result = result + \" \"\n",
    "            inc=''\n",
    "        else:\n",
    "            pos = chlist.find(lchar) + chlist.find(lchar2)\n",
    "#             print(chlist.find(lchar),\" \",chlist.find(lchar2))\n",
    "            if pos < chlen:\n",
    "                inc = chlist[pos] + inc\n",
    "                result = result + inc\n",
    "                inc=''\n",
    "            else:\n",
    "                inc = chlist[pos%26]\n",
    "                result = result + inc\n",
    "                inc=''\n",
    "\n",
    "    print(\"CipherText: \",result)\n",
    "    result=''"
   ]
  }
 ],
 "metadata": {
  "kernelspec": {
   "display_name": "Python 3",
   "language": "python",
   "name": "python3"
  },
  "language_info": {
   "codemirror_mode": {
    "name": "ipython",
    "version": 3
   },
   "file_extension": ".py",
   "mimetype": "text/x-python",
   "name": "python",
   "nbconvert_exporter": "python",
   "pygments_lexer": "ipython3",
   "version": "3.7.4"
  }
 },
 "nbformat": 4,
 "nbformat_minor": 2
}
