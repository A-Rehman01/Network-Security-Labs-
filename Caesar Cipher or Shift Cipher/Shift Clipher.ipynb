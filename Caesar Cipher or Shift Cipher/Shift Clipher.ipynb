{
 "cells": [
  {
   "cell_type": "markdown",
   "metadata": {},
   "source": [
    "<h2>Shift Clipher</h2>"
   ]
  },
  {
   "cell_type": "code",
   "execution_count": null,
   "metadata": {},
   "outputs": [],
   "source": [
    "key = input('Give IncodeKey:')\n",
    "key = key.upper()\n",
    "valid = CheckInput(key)\n",
    "# Zlkdoxqrixqflk vlr plisba qeb pefcq zfmebo  sir ne diya tha key 3 he :)\n",
    "if(valid):\n",
    "    ConvertinShiftClipherincode(key)\n",
    "else:\n",
    "    print('Invalid Input')\n",
    "\n"
   ]
  },
  {
   "cell_type": "code",
   "execution_count": null,
   "metadata": {},
   "outputs": [],
   "source": [
    "inputText = input('Give DecodeKey:')\n",
    "inputText = inputText.upper()\n",
    "valid = CheckInput(inputText)\n",
    "key = int(input(\"Enter Key: \"))\n",
    "key=key%26\n",
    "# print(key)\n",
    "if(valid):\n",
    "    ConvertinShiftClipherdecode(inputText,key)\n",
    "else:\n",
    "    print('Invalid Input')\n",
    "\n"
   ]
  },
  {
   "cell_type": "code",
   "execution_count": null,
   "metadata": {},
   "outputs": [],
   "source": [
    "def CheckInput(input):\n",
    "    if(input!=''):\n",
    "        for x in input:\n",
    "#             65 = A , 90 = Z 32 = ' '\n",
    "            if(ord(x)<65 or ord(x)>90):    \n",
    "                if(ord(x)!=32):\n",
    "                    return False\n",
    "        return True\n",
    "    return False\n"
   ]
  },
  {
   "cell_type": "code",
   "execution_count": null,
   "metadata": {},
   "outputs": [],
   "source": [
    "\n",
    "    "
   ]
  },
  {
   "cell_type": "code",
   "execution_count": 2,
   "metadata": {},
   "outputs": [],
   "source": [
    "def ConvertinShiftClipherincode(text):\n",
    "    chlist = 'ABCDEFGHIJKLMNOPQRSTUVWXYZ'\n",
    "    chlist = ''.join(sorted(set(str(chlist))))\n",
    "    inc = ''\n",
    "    result=''\n",
    "    chlen = len(chlist)\n",
    "    for k in range(1,27):\n",
    "        for i in range(0, len(text)):\n",
    "            lchar = text[i]\n",
    "            if(lchar == ' '):\n",
    "                result = result + \" \"\n",
    "                inc=''\n",
    "            else:\n",
    "                pos = chlist.find(lchar) + k\n",
    "                if pos < chlen:\n",
    "                    inc = chlist[pos] + inc\n",
    "                    result = result + inc\n",
    "                    inc=''\n",
    "                else:\n",
    "                    inc = chlist[pos%26]\n",
    "                    result = result + inc\n",
    "                    inc=''\n",
    "\n",
    "        print(result,\": \",k)\n",
    "        result=''\n",
    "\n",
    "\n",
    "    "
   ]
  },
  {
   "cell_type": "code",
   "execution_count": 8,
   "metadata": {},
   "outputs": [],
   "source": [
    "def ConvertinShiftClipherdecode(text,k):\n",
    "    chlist = 'ABCDEFGHIJKLMNOPQRSTUVWXYZ'\n",
    "    chlist = ''.join(sorted(set(str(chlist))))\n",
    "    inc = ''\n",
    "    result=''\n",
    "    chlen = len(chlist)\n",
    "    for i in range(0, len(text)):\n",
    "        lchar = text[i]\n",
    "        if(lchar == ' '):\n",
    "            result = result + \" \"\n",
    "            inc=''\n",
    "        else:\n",
    "            pos = chlist.find(lchar) -k\n",
    "            if pos < chlen:\n",
    "                inc = chlist[pos] + inc\n",
    "                result = result + inc\n",
    "                inc=''\n",
    "            else:\n",
    "                inc = chlist[pos%26]\n",
    "                result = result + inc\n",
    "                inc=''\n",
    "\n",
    "    print(\"final: \",result)\n"
   ]
  },
  {
   "cell_type": "code",
   "execution_count": null,
   "metadata": {},
   "outputs": [],
   "source": []
  }
 ],
 "metadata": {
  "kernelspec": {
   "display_name": "Python 3",
   "language": "python",
   "name": "python3"
  },
  "language_info": {
   "codemirror_mode": {
    "name": "ipython",
    "version": 3
   },
   "file_extension": ".py",
   "mimetype": "text/x-python",
   "name": "python",
   "nbconvert_exporter": "python",
   "pygments_lexer": "ipython3",
   "version": "3.7.4"
  }
 },
 "nbformat": 4,
 "nbformat_minor": 2
}
