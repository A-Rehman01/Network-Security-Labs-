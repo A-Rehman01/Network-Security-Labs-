{
 "cells": [
  {
   "cell_type": "markdown",
   "metadata": {},
   "source": [
    "<h2>Shift Clipher</h2>"
   ]
  },
  {
   "cell_type": "code",
   "execution_count": 7,
   "metadata": {},
   "outputs": [
    {
     "name": "stdout",
     "output_type": "stream",
     "text": [
      "Give IncodeKey:Zlkdoxqrixqflk vlr plisba qeb pefcq zfmebo\n",
      "AMLEPYRSJYRGML WMS QMJTCB RFC QFGDR AGNFCP :  1\n",
      "BNMFQZSTKZSHNM XNT RNKUDC SGD RGHES BHOGDQ :  2\n",
      "CONGRATULATION YOU SOLVED THE SHIFT CIPHER :  3\n",
      "DPOHSBUVMBUJPO ZPV TPMWFE UIF TIJGU DJQIFS :  4\n",
      "EQPITCVWNCVKQP AQW UQNXGF VJG UJKHV EKRJGT :  5\n",
      "FRQJUDWXODWLRQ BRX VROYHG WKH VKLIW FLSKHU :  6\n",
      "GSRKVEXYPEXMSR CSY WSPZIH XLI WLMJX GMTLIV :  7\n",
      "HTSLWFYZQFYNTS DTZ XTQAJI YMJ XMNKY HNUMJW :  8\n",
      "IUTMXGZARGZOUT EUA YURBKJ ZNK YNOLZ IOVNKX :  9\n",
      "JVUNYHABSHAPVU FVB ZVSCLK AOL ZOPMA JPWOLY :  10\n",
      "KWVOZIBCTIBQWV GWC AWTDML BPM APQNB KQXPMZ :  11\n",
      "LXWPAJCDUJCRXW HXD BXUENM CQN BQROC LRYQNA :  12\n",
      "MYXQBKDEVKDSYX IYE CYVFON DRO CRSPD MSZROB :  13\n",
      "NZYRCLEFWLETZY JZF DZWGPO ESP DSTQE NTASPC :  14\n",
      "OAZSDMFGXMFUAZ KAG EAXHQP FTQ ETURF OUBTQD :  15\n",
      "PBATENGHYNGVBA LBH FBYIRQ GUR FUVSG PVCURE :  16\n",
      "QCBUFOHIZOHWCB MCI GCZJSR HVS GVWTH QWDVSF :  17\n",
      "RDCVGPIJAPIXDC NDJ HDAKTS IWT HWXUI RXEWTG :  18\n",
      "SEDWHQJKBQJYED OEK IEBLUT JXU IXYVJ SYFXUH :  19\n",
      "TFEXIRKLCRKZFE PFL JFCMVU KYV JYZWK TZGYVI :  20\n",
      "UGFYJSLMDSLAGF QGM KGDNWV LZW KZAXL UAHZWJ :  21\n",
      "VHGZKTMNETMBHG RHN LHEOXW MAX LABYM VBIAXK :  22\n",
      "WIHALUNOFUNCIH SIO MIFPYX NBY MBCZN WCJBYL :  23\n",
      "XJIBMVOPGVODJI TJP NJGQZY OCZ NCDAO XDKCZM :  24\n",
      "YKJCNWPQHWPEKJ UKQ OKHRAZ PDA ODEBP YELDAN :  25\n",
      "ZLKDOXQRIXQFLK VLR PLISBA QEB PEFCQ ZFMEBO :  26\n"
     ]
    }
   ],
   "source": [
    "key = input('Give IncodeKey:')\n",
    "key = key.upper()\n",
    "valid = CheckInput(key)\n",
    "# Zlkdoxqrixqflk vlr plisba qeb pefcq zfmebo  sir ne diya tha key 3 he :)\n",
    "if(valid):\n",
    "    ConvertinShiftClipherincode(key)\n",
    "else:\n",
    "    print('Invalid Input')\n",
    "\n"
   ]
  },
  {
   "cell_type": "code",
   "execution_count": 9,
   "metadata": {},
   "outputs": [
    {
     "name": "stdout",
     "output_type": "stream",
     "text": [
      "Give DecodeKey:CONGRATULATION YOU SOLVED THE SHIFT CIPHER\n",
      "Enter Key: 3\n",
      "final:  ZLKDOXQRIXQFLK VLR PLISBA QEB PEFCQ ZFMEBO\n"
     ]
    }
   ],
   "source": [
    "inputText = input('Give DecodeKey:')\n",
    "inputText = inputText.upper()\n",
    "valid = CheckInput(inputText)\n",
    "key = int(input(\"Enter Key: \"))\n",
    "key=key%26\n",
    "# print(key)\n",
    "if(valid):\n",
    "    ConvertinShiftClipherdecode(inputText,key)\n",
    "else:\n",
    "    print('Invalid Input')\n",
    "\n"
   ]
  },
  {
   "cell_type": "code",
   "execution_count": 3,
   "metadata": {},
   "outputs": [],
   "source": [
    "def CheckInput(input):\n",
    "    if(input!=''):\n",
    "        for x in input:\n",
    "#             65 = A , 90 = Z 32 = ' '\n",
    "            if(ord(x)<65 or ord(x)>90):    \n",
    "                if(ord(x)!=32):\n",
    "                    return False\n",
    "        return True\n",
    "    return False\n"
   ]
  },
  {
   "cell_type": "code",
   "execution_count": null,
   "metadata": {},
   "outputs": [],
   "source": [
    "\n",
    "    "
   ]
  },
  {
   "cell_type": "code",
   "execution_count": 2,
   "metadata": {},
   "outputs": [],
   "source": [
    "def ConvertinShiftClipherincode(text):\n",
    "    chlist = 'ABCDEFGHIJKLMNOPQRSTUVWXYZ'\n",
    "    chlist = ''.join(sorted(set(str(chlist))))\n",
    "    inc = ''\n",
    "    result=''\n",
    "    chlen = len(chlist)\n",
    "    for k in range(1,27):\n",
    "        for i in range(0, len(text)):\n",
    "            lchar = text[i]\n",
    "            if(lchar == ' '):\n",
    "                result = result + \" \"\n",
    "                inc=''\n",
    "            else:\n",
    "                pos = chlist.find(lchar) + k\n",
    "                if pos < chlen:\n",
    "                    inc = chlist[pos] + inc\n",
    "                    result = result + inc\n",
    "                    inc=''\n",
    "                else:\n",
    "                    inc = chlist[pos%26]\n",
    "                    result = result + inc\n",
    "                    inc=''\n",
    "\n",
    "        print(result,\": \",k)\n",
    "        result=''\n",
    "\n",
    "\n",
    "    "
   ]
  },
  {
   "cell_type": "code",
   "execution_count": 8,
   "metadata": {},
   "outputs": [],
   "source": [
    "def ConvertinShiftClipherdecode(text,k):\n",
    "    chlist = 'ABCDEFGHIJKLMNOPQRSTUVWXYZ'\n",
    "    chlist = ''.join(sorted(set(str(chlist))))\n",
    "    inc = ''\n",
    "    result=''\n",
    "    chlen = len(chlist)\n",
    "    for i in range(0, len(text)):\n",
    "        lchar = text[i]\n",
    "        if(lchar == ' '):\n",
    "            result = result + \" \"\n",
    "            inc=''\n",
    "        else:\n",
    "            pos = chlist.find(lchar) -k\n",
    "            if pos < chlen:\n",
    "                inc = chlist[pos] + inc\n",
    "                result = result + inc\n",
    "                inc=''\n",
    "            else:\n",
    "                inc = chlist[pos%26]\n",
    "                result = result + inc\n",
    "                inc=''\n",
    "\n",
    "    print(\"final: \",result)\n"
   ]
  },
  {
   "cell_type": "code",
   "execution_count": null,
   "metadata": {},
   "outputs": [],
   "source": []
  }
 ],
 "metadata": {
  "kernelspec": {
   "display_name": "Python 3",
   "language": "python",
   "name": "python3"
  },
  "language_info": {
   "codemirror_mode": {
    "name": "ipython",
    "version": 3
   },
   "file_extension": ".py",
   "mimetype": "text/x-python",
   "name": "python",
   "nbconvert_exporter": "python",
   "pygments_lexer": "ipython3",
   "version": "3.7.4"
  }
 },
 "nbformat": 4,
 "nbformat_minor": 2
}
