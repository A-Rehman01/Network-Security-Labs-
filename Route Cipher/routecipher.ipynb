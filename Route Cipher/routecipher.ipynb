{
 "cells": [
  {
   "cell_type": "markdown",
   "metadata": {},
   "source": [
    "<h1>Task 1: Encrypted, Decrypted using Route Cipher</h1>"
   ]
  },
  {
   "cell_type": "code",
   "execution_count": 11,
   "metadata": {},
   "outputs": [
    {
     "name": "stdout",
     "output_type": "stream",
     "text": [
      "Enter message: wnriedstattirraoeynnsidctntiugrpdtahyoneiusrnnpsgdoaes\n",
      "Enter Key:4\n",
      "Encryption/Decryption [e/d]: d\n",
      "Output:\n",
      "wearestudyingandtryingtounderstandtranspositionciphers\n"
     ]
    }
   ],
   "source": [
    "import math\n",
    "\n",
    "def main():\n",
    "    message = input(\"Enter message: \")\n",
    "    input_key = int(input(\"Enter Key:\"))\n",
    "    N =len(message)/input_key\n",
    "    key = math.ceil(N)\n",
    "    #key = int(input(\"Enter key [2-%s]: \" % (len(message) - 1)))\n",
    "    mode = input(\"Encryption/Decryption [e/d]: \")\n",
    " \n",
    "    if mode.lower().startswith(\"e\"):\n",
    "        text = encryptMessage(key, message)\n",
    "    elif mode.lower().startswith(\"d\"):\n",
    "        text = decryptMessage(key, message)\n",
    " \n",
    "    print(\"Output:\\n%s\" % (text))\n",
    " \n",
    " \n",
    "def encryptMessage(key, message):\n",
    "    cipherText = [\"\"] * key\n",
    "    for col in range(key):\n",
    "        pointer = col\n",
    "        while pointer < len(message):\n",
    "            cipherText[col] += message[pointer]\n",
    "            pointer += key\n",
    "    return \"\".join(cipherText)\n",
    " \n",
    "def decryptMessage(key, message):\n",
    "    numCols = math.ceil(len(message) / key)\n",
    "    numRows = key\n",
    "    numShadedBoxes = (numCols * numRows) - len(message)\n",
    "    plainText = [\"\"] * numCols\n",
    "    col = 0\n",
    "    row = 0\n",
    " \n",
    "    for symbol in message:\n",
    "        plainText[col] += symbol\n",
    "        col += 1\n",
    " \n",
    "        if (\n",
    "            (col == numCols)\n",
    "            or (col == numCols - 1)\n",
    "            and (row >= numRows - numShadedBoxes)\n",
    "        ):\n",
    "            col = 0\n",
    "            row += 1\n",
    " \n",
    "    return \"\".join(plainText)\n",
    " \n",
    "if __name__ == \"__main__\":\n",
    "    import doctest\n",
    " \n",
    "    doctest.testmod()\n",
    "    main()"
   ]
  },
  {
   "cell_type": "markdown",
   "metadata": {},
   "source": [
    "<h1>Task 2:\n",
    "    Pick odd First<h1>"
   ]
  },
  {
   "cell_type": "code",
   "execution_count": 1,
   "metadata": {},
   "outputs": [
    {
     "name": "stdout",
     "output_type": "stream",
     "text": [
      "The encrypted message is:\n",
      "Luhate s teor si eginu ntesceonp r eotrXetens mptossysataceooru h iirughr tr\n"
     ]
    }
   ],
   "source": [
    "def encrypt(Data,key):\n",
    "    l=len(Data)\n",
    "    l2=0\n",
    "    temp=\"\"\n",
    "    temp2=\"\"\n",
    "    num=0\n",
    "    while((l/key)%1):\n",
    "        l=l+1\n",
    "        Data=Data+\"X\"\n",
    "    col=int(l/key)\n",
    "    while(l2<l):\n",
    "        if(num%2==0):\n",
    "            temp=temp+Data[(l2%key)*col+num]\n",
    "        else:\n",
    "            temp2=temp2+Data[(l2%key)*col+num]\n",
    "        l2=l2+1\n",
    "        if(l2%key==0):\n",
    "            num=num+1\n",
    "    return temp+temp2\n",
    "data=\"Lets try another route to secure our the message using transposition cipher\"\n",
    "A=4\n",
    "print(\"The encrypted message is:\\n\"+encrypt(data,A))"
   ]
  },
  {
   "cell_type": "code",
   "execution_count": null,
   "metadata": {},
   "outputs": [],
   "source": []
  }
 ],
 "metadata": {
  "kernelspec": {
   "display_name": "Python 3",
   "language": "python",
   "name": "python3"
  },
  "language_info": {
   "codemirror_mode": {
    "name": "ipython",
    "version": 3
   },
   "file_extension": ".py",
   "mimetype": "text/x-python",
   "name": "python",
   "nbconvert_exporter": "python",
   "pygments_lexer": "ipython3",
   "version": "3.7.4"
  }
 },
 "nbformat": 4,
 "nbformat_minor": 2
}
