{
 "cells": [
  {
   "cell_type": "markdown",
   "metadata": {},
   "source": [
    "<h2>AutoKey and Porta Ciphers</h2>"
   ]
  },
  {
   "cell_type": "markdown",
   "metadata": {},
   "source": [
    "<h3>TASK 1 (AutoKey encrypt and decrypt)</h3>"
   ]
  },
  {
   "cell_type": "code",
   "execution_count": 68,
   "metadata": {},
   "outputs": [
    {
     "name": "stdout",
     "output_type": "stream",
     "text": [
      "Planetext: ASSIGNMENTDUEBYNEXTCLASS Key: PRACTICEASSIGNMENTDUEBYN\n",
      "CipherText:  PJSKZVOINLVCKOKRRQWWPBQF\n"
     ]
    }
   ],
   "source": [
    "Planetext = \"Assignmentduebynextclass\"\n",
    "Planetext = Planetext.upper()\n",
    "key = \"practice\";\n",
    "key = key.upper()\n",
    "valid = CheckInput(Planetext)\n",
    "for i in range(0, len(Planetext)):\n",
    "    if(len(key)==len(Planetext)):\n",
    "        break;\n",
    "    key=key+Planetext[i]\n",
    "length = len(key)\n",
    "print(\"Planetext:\",Planetext,\"Key:\",key)\n",
    "if(valid):\n",
    "    ConvertinVigenereClipherEncode(Planetext,key,length)\n",
    "else:\n",
    "    print('Invalid Input')"
   ]
  },
  {
   "cell_type": "code",
   "execution_count": 38,
   "metadata": {},
   "outputs": [
    {
     "name": "stdout",
     "output_type": "stream",
     "text": [
      "Cipher:  PJSKZVOINLVCKOKRRQWWPBQF Key: PRACTICE\n",
      "PlaneText:  ASSIGNMENTDUEBYNEXTCLASS\n"
     ]
    }
   ],
   "source": [
    "Ciphertext = 'PJSKZVOINLVCKOKRRQWWPBQF'\n",
    "Ciphertext = Ciphertext.upper()\n",
    "key = 'Practice'\n",
    "key = key.upper()\n",
    "valid = CheckInput(Ciphertext)\n",
    "print(\"Cipher: \",Ciphertext,\"Key:\",key)\n",
    "if(valid):\n",
    "    ConvertinVigenereClipherDecode(Ciphertext,key)\n",
    "else:\n",
    "    print('Invalid Input')"
   ]
  },
  {
   "cell_type": "markdown",
   "metadata": {},
   "source": [
    "<h3>TASK 2</h3>"
   ]
  },
  {
   "cell_type": "code",
   "execution_count": 18,
   "metadata": {},
   "outputs": [
    {
     "name": "stdout",
     "output_type": "stream",
     "text": [
      "Cipher:  PVRDLZOXSKMXOVM Key: WORK\n",
      "PlaneText:  THATSSOEASYTODO\n"
     ]
    }
   ],
   "source": [
    "Ciphertext = \"Pvrdlzoxskmxovm\" \n",
    "Ciphertext = Ciphertext.upper()\n",
    "key = 'work'\n",
    "key = key.upper()\n",
    "valid = CheckInput(Ciphertext)\n",
    "print(\"Cipher: \",Ciphertext,\"Key:\",key)\n",
    "if(valid):\n",
    "    ConvertinVigenereClipherDecode(Ciphertext,key)\n",
    "else:\n",
    "    print('Invalid Input')"
   ]
  },
  {
   "cell_type": "code",
   "execution_count": 4,
   "metadata": {},
   "outputs": [],
   "source": [
    "def CheckInput(input):\n",
    "    if(input!=''):\n",
    "        for x in input:\n",
    "#             65 = A , 90 = Z 32 = ' '\n",
    "            if(ord(x)<65 or ord(x)>90):    \n",
    "                if(ord(x)!=32):\n",
    "                    return False\n",
    "        return True\n",
    "    return False"
   ]
  },
  {
   "cell_type": "code",
   "execution_count": 3,
   "metadata": {},
   "outputs": [],
   "source": [
    "def ConvertinVigenereClipherEncode(text,key,length):\n",
    "    chlist = 'ABCDEFGHIJKLMNOPQRSTUVWXYZ'\n",
    "    chlist = ''.join(sorted(set(str(chlist))))\n",
    "    inc = ''\n",
    "    result=''\n",
    "    chlen = len(chlist)\n",
    "    for i in range(0, length):\n",
    "        lchar = text[i]\n",
    "        lchar2 = key[i]\n",
    "        if(lchar == ' '):\n",
    "            result = result + \" \"\n",
    "            inc=''\n",
    "        else:\n",
    "            pos = chlist.find(lchar) + chlist.find(lchar2)\n",
    "#             print(chlist.find(lchar),\" \",chlist.find(lchar2))\n",
    "            if pos < chlen:\n",
    "                inc = chlist[pos] + inc\n",
    "                result = result + inc\n",
    "                inc=''\n",
    "            else:\n",
    "                inc = chlist[pos%26]\n",
    "                result = result + inc\n",
    "                inc=''\n",
    "    result=''"
   ]
  },
  {
   "cell_type": "code",
   "execution_count": 17,
   "metadata": {},
   "outputs": [],
   "source": [
    "def ConvertinVigenereClipherDecode(text,key):\n",
    "    chlist = 'ABCDEFGHIJKLMNOPQRSTUVWXYZ'\n",
    "    chlist = ''.join(sorted(set(str(chlist))))\n",
    "    inc = ''\n",
    "    result=''\n",
    "    chlen = len(chlist)\n",
    "    for i in range(0, len(text)):\n",
    "        lchar = text[i]\n",
    "        \n",
    "        if(lchar == ' '):\n",
    "            result = result + \" \"\n",
    "            inc=''\n",
    "#             key = key + \" \"\n",
    "        else:\n",
    "            lchar2 = key[i]\n",
    "            pos = chlist.find(lchar) - chlist.find(lchar2)\n",
    "            key = key + chlist[pos]\n",
    "            if pos < len(text):\n",
    "                inc = chlist[pos] \n",
    "                result = result + inc\n",
    "                inc=''\n",
    "            else:\n",
    "                inc = chlist[pos%26] \n",
    "                result = result + inc\n",
    "                inc=''\n",
    "    print(\"PlaneText: \",result)\n",
    "    result=''"
   ]
  }
 ],
 "metadata": {
  "kernelspec": {
   "display_name": "Python 3",
   "language": "python",
   "name": "python3"
  },
  "language_info": {
   "codemirror_mode": {
    "name": "ipython",
    "version": 3
   },
   "file_extension": ".py",
   "mimetype": "text/x-python",
   "name": "python",
   "nbconvert_exporter": "python",
   "pygments_lexer": "ipython3",
   "version": "3.7.4"
  }
 },
 "nbformat": 4,
 "nbformat_minor": 2
}
